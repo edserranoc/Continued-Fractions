{
  "nbformat": 4,
  "nbformat_minor": 0,
  "metadata": {
    "kernelspec": {
      "display_name": "Python 3",
      "language": "python",
      "name": "python3"
    },
    "language_info": {
      "codemirror_mode": {
        "name": "ipython",
        "version": 3
      },
      "file_extension": ".py",
      "mimetype": "text/x-python",
      "name": "python",
      "nbconvert_exporter": "python",
      "pygments_lexer": "ipython3",
      "version": "3.8.3"
    },
    "colab": {
      "name": "PROYECTO_CF.ipynb",
      "provenance": [],
      "collapsed_sections": []
    }
  },
  "cells": [
    {
      "cell_type": "markdown",
      "metadata": {
        "id": "dJtFKzW2aE_x"
      },
      "source": [
        "# Fracciones continuas\n",
        "\n",
        "# Librerias usadas"
      ]
    },
    {
      "cell_type": "code",
      "metadata": {
        "id": "lT8FPcplaE_z"
      },
      "source": [
        "import matplotlib.pyplot as plt\n",
        "import numpy as np\n",
        "import sympy as sym"
      ],
      "execution_count": null,
      "outputs": []
    },
    {
      "cell_type": "markdown",
      "metadata": {
        "id": "kcZ7W_gsaE_z"
      },
      "source": [
        "# Introducción"
      ]
    },
    {
      "cell_type": "markdown",
      "metadata": {
        "id": "ezJ7dYHMaE_0"
      },
      "source": [
        "Una fracción continua es una expresión de la forma: $$\\frac{b_{1}}{a_{1}+\\frac{b_{2}}{a_{2}+\\frac{b_{3}}{b_{3}+\\frac{b_{4}}{a_{4}+\\frac{\\cdots}{\\ldots}}}}} $$ que escrita en la notación de Prinsheim quedaría como: $$\\frac{b_1 \\mid}{\\mid a_{1}}+\\frac{b_2 \\mid}{\\mid a_{2}}+\\frac{b_3 \\mid}{\\mid a_{3}}+\\frac{b_4 \\mid}{\\mid a_{4}}+\\cdots$$\n"
      ]
    },
    {
      "cell_type": "markdown",
      "metadata": {
        "id": "enmGJerBaE_0"
      },
      "source": [
        "Las fracciones continuas pueden interpretarse como una sucesión $\\{T_n\\}_{n\\geq 1}$ determinada por:\n",
        "\n",
        "$\\begin{align}\n",
        "T_1 &= \\frac{p_1}{q_1}= \\frac{b_1}{a_1} =\\frac{b_1 \\mid}{\\mid a_{1}}\\\\\n",
        "T_2 &= \\frac{p_2}{q_2}= \\frac{b_1}{a_1+\\frac{b_2}{a_2}} =\\frac{b_1 \\mid}{\\mid a_{1}}+\\frac{b_2 \\mid}{\\mid a_{2}} \\\\\n",
        "T_3 &= \\frac{p_3}{q_3}= \\frac{b_1}{a_1+\\frac{b_2}{a_2+\\frac{b_3}{a_3}}}= \\frac{b_1 \\mid}{\\mid a_{1}}+\\frac{b_2 \\mid}{\\mid a_{2}}+\\frac{b_3 \\mid}{\\mid a_{3}}\\\\\n",
        "T_4 &= \\frac{p_4}{q_4}= \\frac{b_1}{a_1+\\frac{b_2}{a_2+\\frac{b_3}{a_3+\\frac{b_4}{a_4}}}}=\\frac{b_1 \\mid}{\\mid a_{1}}+\\frac{b_2 \\mid}{\\mid a_{2}}+\\frac{b_3 \\mid}{\\mid a_{3}}+\\frac{b_4 \\mid}{\\mid a_{4}}\\\\\n",
        "& \\cdots\n",
        "\\end{align}$\n",
        "\n",
        "## Fraciones continuas simples\n",
        "\n",
        "Un caso particular es cuando la sucesión de $b_i$'s es una sucesión constante de valor $1$ y la sucesión de $a_i$'s es una sucesión en números enteros, en este caso la fracción continua se conoce como *fracción contínua simple* y se usa la notación $[a_0;a_1,\\cdots]$\n",
        "\n",
        "$$r = a_0+\\frac{1}{a_1+\\frac{1}{a_2+\\frac{1}{a_3+\\frac{1}{a_4+\\cdots}}}}=[a_0;a_1,a_2,a_3,a_4,\\cdots]$$\n",
        "\n",
        "Puede probarse que la representación como fracción continua de un número real $r$ es finita si y solo si el número en cuestión es racional, mientras que para el caso en que: $r \\in \\mathbb{Q}+\\sqrt{\\mathbb{Q}}$ entonces si bien la representación como fracción contínua es infinita, la sucesión de $a_i$'s presenta un comportamiento periódico permitiendo el uso de la notación $[a_0;a_1,\\cdots,a_{n-1},\\overline{a_n,\\cdots,a_m}]$"
      ]
    },
    {
      "cell_type": "markdown",
      "metadata": {
        "id": "22kqn2zkaE_0"
      },
      "source": [
        "## Métodos para calcular fracciones continuas"
      ]
    },
    {
      "cell_type": "code",
      "metadata": {
        "id": "xYBA3bFLWHzU"
      },
      "source": [
        "from sympy import Add, Pow, Integer, init_printing"
      ],
      "execution_count": null,
      "outputs": []
    },
    {
      "cell_type": "code",
      "metadata": {
        "id": "V79V7PgNWxN5"
      },
      "source": [
        "def list_to_frac(l):    \n",
        "    expr = Integer(0)\n",
        "    for i in reversed(l[1:]):\n",
        "        expr = Add(i, expr, evaluate=False)\n",
        "        expr = Pow(expr, -1, evaluate=False)    \n",
        "    init_printing(order='old')    \n",
        "    return Add(l[0], expr, evaluate=False)\n",
        "\n",
        "def quadratic_to_c_frac(p, q, d=0):\n",
        "    from sympy.core.compatibility import as_int\n",
        "    from sympy.functions import sqrt\n",
        "\n",
        "    p, q, d = list(map(as_int, [p, q, d]))\n",
        "    sd = sqrt(d)\n",
        "\n",
        "    if (d - p**2)%q:\n",
        "        d *= q**2\n",
        "        sd *= q\n",
        "        p *= abs(q)\n",
        "        q *= abs(q)\n",
        "\n",
        "    terms = []\n",
        "    pq = {}\n",
        "\n",
        "    while (p, q) not in pq:\n",
        "        pq[(p, q)] = len(terms)\n",
        "        terms.append(int((p + sd)/q))\n",
        "        p = terms[-1]*q - p\n",
        "        q = (d - p**2)/q\n",
        "\n",
        "    i = pq[(p, q)]\n",
        "    return terms[:i] + [terms[i:]]\n",
        "\n",
        "def continued_fraction_convergents(cf):\n",
        "\n",
        "    p_2, q_2 = Integer(0), Integer(1)\n",
        "    p_1, q_1 = Integer(1), Integer(0)\n",
        "    for a in cf:\n",
        "        p, q = a*p_1 + p_2, a*q_1 + q_2\n",
        "        p_2, q_2 = p_1, q_1\n",
        "        p_1, q_1 = p, q\n",
        "        yield p/q\n",
        "\n",
        "def c_fraction_to_quadratic(cf):\n",
        "\n",
        "    from sympy.core.symbol import Dummy\n",
        "    from sympy.solvers import solve\n",
        "\n",
        "    period = []\n",
        "    x = Dummy('x')\n",
        "\n",
        "    def untillist(cf):\n",
        "        for nxt in cf:\n",
        "            if isinstance(nxt, list):\n",
        "                period.extend(nxt)\n",
        "                yield x\n",
        "                break\n",
        "            yield nxt\n",
        "\n",
        "    a = Integer(0)\n",
        "    for a in continued_fraction_convergents(untillist(cf)):\n",
        "        pass\n",
        "\n",
        "    if period:\n",
        "        y = Dummy('y')\n",
        "        solns = solve(continued_fraction_reduce(period + [y]) - y, y)\n",
        "        solns.sort()\n",
        "        pure = solns[-1]\n",
        "        return a.subs(x, pure).radsimp()\n",
        "    else:\n",
        "        return a\n",
        "\n",
        "def continued_fraction_reduce(cf):\n",
        "\n",
        "    from sympy.core.symbol import Dummy\n",
        "    from sympy.solvers import solve\n",
        "\n",
        "    period = []\n",
        "    x = Dummy('x')\n",
        "\n",
        "    def untillist(cf):\n",
        "        for nxt in cf:\n",
        "            if isinstance(nxt, list):\n",
        "                period.extend(nxt)\n",
        "                yield x\n",
        "                break\n",
        "            yield nxt\n",
        "\n",
        "    a = Integer(0)\n",
        "    for a in continued_fraction_convergents(untillist(cf)):\n",
        "        pass\n",
        "\n",
        "    if period:\n",
        "        y = Dummy('y')\n",
        "        solns = solve(continued_fraction_reduce(period + [y]) - y, y)\n",
        "        solns.sort()\n",
        "        pure = solns[-1]\n",
        "        return a.subs(x, pure).radsimp()\n",
        "    else:\n",
        "        return a\n",
        "\n",
        "def rat_to_c_fraction(a,b):    \n",
        "  coefs = []  \n",
        "  while b !=0:\n",
        "    q = a//b\n",
        "    r = a%b\n",
        "    coefs.append(q)\n",
        "    a = b\n",
        "    b = r\n",
        "  return coefs\n",
        "\n",
        "def float_to_c_fraction(x):\n",
        "  s = str(x).split(\".\")\n",
        "  lenstr = len(s[1])\n",
        "  a, b = int(str(x).replace(\".\",\"\")), 10**lenstr\n",
        "  return rat_to_c_fraction(a,b)\n",
        "\n",
        "def pure_quadratic_period(d):   \n",
        "  l = quadratic_to_c_frac(0, 1, d)\n",
        "  period = l[-1]\n",
        "  p = len(period)\n",
        "  if p%2 == 0:\n",
        "    new_l = l[:-1]  \n",
        "    for i in period:\n",
        "      new_l.append(i)\n",
        "  else:\n",
        "    new_l = l[:-1]  \n",
        "    for i in period*2:\n",
        "      new_l.append(i)\n",
        "  return new_l, p"
      ],
      "execution_count": null,
      "outputs": []
    },
    {
      "cell_type": "markdown",
      "metadata": {
        "id": "E35LKgy70aSX"
      },
      "source": [
        "**Ejemplo 1:** Nuestro primer ejemplo nos ayudará a ver cómo podemos usar las funcionalidades atrás implementadas para tratar con problemas de fracciones continuas simples, usaremos la función <code>list_to_frac</code> para encontrar la fracción contínua simple de un número a partir de la sucesión de $a_i$'s"
      ]
    },
    {
      "cell_type": "code",
      "metadata": {
        "colab": {
          "base_uri": "https://localhost:8080/",
          "height": 71
        },
        "id": "9ZeotCUpW122",
        "outputId": "4439b0c2-4600-4907-f847-aa4f2dbb0656"
      },
      "source": [
        "list_to_frac([1,2,3,4,5])"
      ],
      "execution_count": null,
      "outputs": [
        {
          "output_type": "execute_result",
          "data": {
            "image/png": "[encoded data removed]",
            "text/latex": "$\\displaystyle 1 + \\frac{1}{2 + \\frac{1}{3 + \\frac{1}{4 + \\frac{1}{0 + 5}}}}$",
            "text/plain": [
              "            1        \n",
              "1 + ─────────────────\n",
              "              1      \n",
              "    2 + ─────────────\n",
              "                1    \n",
              "        3 + ─────────\n",
              "                  1  \n",
              "            4 + ─────\n",
              "                0 + 5"
            ]
          },
          "metadata": {
            "tags": []
          },
          "execution_count": 4
        }
      ]
    },
    {
      "cell_type": "code",
      "metadata": {
        "colab": {
          "base_uri": "https://localhost:8080/",
          "height": 51
        },
        "id": "Ozgwdv3kW9m9",
        "outputId": "1a32d1b4-86a4-49e9-a779-acb7cb053c81"
      },
      "source": [
        "list_to_frac([1,2,3,4,5]).doit()"
      ],
      "execution_count": null,
      "outputs": [
        {
          "output_type": "execute_result",
          "data": {
            "image/png": "[encoded data removed]",
            "text/latex": "$\\displaystyle \\frac{225}{157}$",
            "text/plain": [
              "225\n",
              "───\n",
              "157"
            ]
          },
          "metadata": {
            "tags": []
          },
          "execution_count": 5
        }
      ]
    },
    {
      "cell_type": "code",
      "metadata": {
        "colab": {
          "base_uri": "https://localhost:8080/",
          "height": 37
        },
        "id": "x1WoPiKPyn1b",
        "outputId": "1c3f547e-1f63-4a95-8827-16930b6b2b67"
      },
      "source": [
        "list_to_frac([1,2,3,4,5]).evalf()"
      ],
      "execution_count": null,
      "outputs": [
        {
          "output_type": "execute_result",
          "data": {
            "image/png": "[encoded data removed]",
            "text/latex": "$\\displaystyle 1.43312101910828$",
            "text/plain": [
              "1.43312101910828"
            ]
          },
          "metadata": {
            "tags": []
          },
          "execution_count": 42
        }
      ]
    },
    {
      "cell_type": "markdown",
      "metadata": {
        "id": "sLLiVNbM1JvT"
      },
      "source": [
        "**Ejemplo 2:** Acá veremos cómo usar la función <code>quadratic_to_c_frac</code> para encontrar la fracción contínua simple de un número de la forma $\\mathbb{Q}+\\sqrt{\\mathbb{Q}}$, si el número es racional entonces la fracción continua será finita, mientras que en el caso en que no sea racional, la fracción continua será infinita pero periodica, en Python usaremos la notación de $[a_0,a_1,\\cdots,a_{n-1},[a_n,\\cdots,a_m]]$\n",
        "\n",
        "El ejemplo clásico es el de la fracción continua simple del número aúreo $\\phi = \\frac{1+\\sqrt{5}}{2}=[0;1,1,1,\\cdots]=[0;\\overline{1}]$"
      ]
    },
    {
      "cell_type": "code",
      "metadata": {
        "colab": {
          "base_uri": "https://localhost:8080/",
          "height": 37
        },
        "id": "0WeJxqmtXSpC",
        "outputId": "a232dd81-43f1-462e-e56c-438bea6b79a4"
      },
      "source": [
        "quadratic_to_c_frac(1, 2, 5)"
      ],
      "execution_count": null,
      "outputs": [
        {
          "output_type": "execute_result",
          "data": {
            "image/png": "[encoded data removed]",
            "text/latex": "$\\displaystyle \\left[ \\left[ 1\\right]\\right]$",
            "text/plain": [
              "[[1]]"
            ]
          },
          "metadata": {
            "tags": []
          },
          "execution_count": 43
        }
      ]
    },
    {
      "cell_type": "markdown",
      "metadata": {
        "id": "i_tp7IEf2F7T"
      },
      "source": [
        "**Ejemplo 3:** En el siguiente ejemplo encontraremos la descomposición en fracción continua simple de $\\frac{3+\\sqrt{7}}{5}$, obteniendo como resultado:"
      ]
    },
    {
      "cell_type": "code",
      "metadata": {
        "colab": {
          "base_uri": "https://localhost:8080/",
          "height": 37
        },
        "id": "XOE8QTUZXydH",
        "outputId": "9379fb61-391d-43f3-cd93-17eb43a2cb04"
      },
      "source": [
        "quadratic_to_c_frac(3, 5, 7)"
      ],
      "execution_count": null,
      "outputs": [
        {
          "output_type": "execute_result",
          "data": {
            "image/png": "[encoded data removed]",
            "text/latex": "$\\displaystyle \\left[ 1, \\  7, \\  \\left[ 1, \\  2, \\  1, \\  8, \\  13, \\  8\\right]\\right]$",
            "text/plain": [
              "[1, 7, [1, 2, 1, 8, 13, 8]]"
            ]
          },
          "metadata": {
            "tags": []
          },
          "execution_count": 44
        }
      ]
    },
    {
      "cell_type": "markdown",
      "metadata": {
        "id": "tNEVjDEL2XMZ"
      },
      "source": [
        "Con lo cual hemos verificado que $\\frac{1+\\sqrt{7}}{5}=[1;7,1,2,1,8,13,8,1,2,1,8,13,8,\\cdots]=[1;7,\\overline{1,2,1,8,13,8}]$"
      ]
    },
    {
      "cell_type": "markdown",
      "metadata": {
        "id": "klRKKiYU24zd"
      },
      "source": [
        "**Ejemplo 4:** La función <code>continued_fraction_convergents</code> nos da un iterable con la lista de todas las reductas, o convergentes de una fracción continua simple:"
      ]
    },
    {
      "cell_type": "code",
      "metadata": {
        "colab": {
          "base_uri": "https://localhost:8080/",
          "height": 57
        },
        "id": "EOPBT8U9ZSnU",
        "outputId": "9c3a1fbc-5154-4c95-913d-db0299c8b369"
      },
      "source": [
        "list(continued_fraction_convergents([1,2,3,4,5,6]))"
      ],
      "execution_count": null,
      "outputs": [
        {
          "output_type": "execute_result",
          "data": {
            "image/png": "[encoded data removed]",
            "text/latex": "$\\displaystyle \\left[ 1, \\  \\frac{3}{2}, \\  \\frac{10}{7}, \\  \\frac{43}{30}, \\  \\frac{225}{157}, \\  \\frac{1393}{972}\\right]$",
            "text/plain": [
              "⎡              43  225  1393⎤\n",
              "⎢1, 3/2, 10/7, ──, ───, ────⎥\n",
              "⎣              30  157  972 ⎦"
            ]
          },
          "metadata": {
            "tags": []
          },
          "execution_count": 8
        }
      ]
    },
    {
      "cell_type": "markdown",
      "metadata": {
        "id": "2cCQz96P3IzT"
      },
      "source": [
        "**Ejemplo 5:** Mientras que la función <code>c_fraction_to_quadratic</code> convierte una fracción contínua (finita o infinita periodica) a un número de la forma $\\mathbb{Q}+\\sqrt{\\mathbb{Q}}$"
      ]
    },
    {
      "cell_type": "code",
      "metadata": {
        "colab": {
          "base_uri": "https://localhost:8080/",
          "height": 55
        },
        "id": "8hhXdMnKX5Ge",
        "outputId": "35733f37-b0b4-40ee-894a-15dfce633749"
      },
      "source": [
        "c_fraction_to_quadratic([1, 4, 2, [3, 1]])"
      ],
      "execution_count": null,
      "outputs": [
        {
          "output_type": "execute_result",
          "data": {
            "image/png": "[encoded data removed]",
            "text/latex": "$\\displaystyle \\frac{287 + \\sqrt{21}}{238}$",
            "text/plain": [
              "287 + √21\n",
              "─────────\n",
              "   238   "
            ]
          },
          "metadata": {
            "tags": []
          },
          "execution_count": 45
        }
      ]
    },
    {
      "cell_type": "code",
      "metadata": {
        "colab": {
          "base_uri": "https://localhost:8080/",
          "height": 51
        },
        "id": "XlXcmiX8Zn1g",
        "outputId": "15bc5673-080e-455e-8b13-009f91ceba28"
      },
      "source": [
        "c_fraction_to_quadratic([1, 4, 2,3,4,5])"
      ],
      "execution_count": null,
      "outputs": [
        {
          "output_type": "execute_result",
          "data": {
            "image/png": "[encoded data removed]",
            "text/latex": "$\\displaystyle \\frac{853}{696}$",
            "text/plain": [
              "853\n",
              "───\n",
              "696"
            ]
          },
          "metadata": {
            "tags": []
          },
          "execution_count": 46
        }
      ]
    },
    {
      "cell_type": "markdown",
      "metadata": {
        "id": "CaGmCpYB3e96"
      },
      "source": [
        "**Ejemplo 6:** Finalmente, tenemos los métodos que nos permite pasar de un racional a un fracción contínua simple, puede probarse que la representación como fracción continua simple de un número real es única, con lo cual, tenemos otra forma de representar nuestros números de interés distinta a su representación por ejemplo, en base $10$.\n",
        "\n",
        "El método <code>rat_to_c_fraction</code> nos permite convertir un racional de la forma $\\frac{a}{b}$ a su representación como fracción continua, mientras que <code>float_to_c_fraction</code> nos permite convertir un número flotante de Python a su fracción contínua."
      ]
    },
    {
      "cell_type": "code",
      "metadata": {
        "colab": {
          "base_uri": "https://localhost:8080/",
          "height": 37
        },
        "id": "wHnG4MyZZt8Y",
        "outputId": "fcee766c-d644-4029-a34f-a88467d790c4"
      },
      "source": [
        "rat_to_c_fraction(187,13)"
      ],
      "execution_count": null,
      "outputs": [
        {
          "output_type": "execute_result",
          "data": {
            "image/png": "[encoded data removed]",
            "text/latex": "$\\displaystyle \\left[ 14, \\  2, \\  1, \\  1, \\  2\\right]$",
            "text/plain": [
              "[14, 2, 1, 1, 2]"
            ]
          },
          "metadata": {
            "tags": []
          },
          "execution_count": 11
        }
      ]
    },
    {
      "cell_type": "code",
      "metadata": {
        "colab": {
          "base_uri": "https://localhost:8080/",
          "height": 37
        },
        "id": "K0tGw_7GZwZv",
        "outputId": "8a055697-7fbe-47ca-e95c-7ac4f2687e47"
      },
      "source": [
        "float_to_c_fraction(3.141592653589793238462643383279)"
      ],
      "execution_count": null,
      "outputs": [
        {
          "output_type": "execute_result",
          "data": {
            "image/png": "[encoded data removed]",
            "text/latex": "$\\displaystyle \\left[ 3, \\  7, \\  15, \\  1, \\  292, \\  1, \\  1, \\  1, \\  2, \\  1, \\  3, \\  1, \\  14, \\  4, \\  2, \\  3, \\  1, \\  12, \\  5, \\  1, \\  5, \\  20, \\  1, \\  11, \\  1, \\  1, \\  1, \\  2\\right]$",
            "text/plain": [
              "[3, 7, 15, 1, 292, 1, 1, 1, 2, 1, 3, 1, 14, 4, 2, 3, 1, 12, 5, 1, 5, 20, 1, 11\n",
              ", 1, 1, 1, 2]"
            ]
          },
          "metadata": {
            "tags": []
          },
          "execution_count": 12
        }
      ]
    },
    {
      "cell_type": "markdown",
      "metadata": {
        "id": "DLfHwkn5tWNO"
      },
      "source": [
        "## Ecuación de Pell\n",
        "\n",
        "La ecuación de Pell es la ecuación de la forma $x^2-Dy^2=1$ con $D \\in \\mathbb{N}$ un número con raíz cuadrada irracional.\n",
        "\n",
        "Se busca encontrar $x, y \\in \\mathbb{Z}$ que cumplan con la ecuación anterior, y para ello se usa la descomposición como fracción contínua de $\\sqrt{D}$. Dado que $\\sqrt{D}$ es irracional cuadrático, su representación como fracción contínua es infinita pero periódica, digamos de periodo $m$, entonces puede probarse que una solución fundamental de la ecuación de Pell (es fundamental en el sentido de que cualquier otra solución se puede generar a partir de ella) está dada por $x=p_{m-1}, y = q_{m-1}$, donde $\\frac{p_{m-1}}{q_{m-1}}$ es la $m-1$ reducta o convergente de la fracción contínua de $\\sqrt{D}$ en el caso en que $m$ sea par, o $x=p_{2m-1}, y = q_{2m-1}$, donde $\\frac{p_{2m-1}}{q_{2m-1}}$ es la $2m-1$ reducta o convergente de la fracción contínua de $\\sqrt{D}$ en el caso en que $m$ sea impar."
      ]
    },
    {
      "cell_type": "markdown",
      "metadata": {
        "id": "lGPvCePP5zph"
      },
      "source": [
        "**Ejemplo 7:** Con la función <code>quadratic_to_c_frac</code> ya podíamos encontrar la representación como fracción continua de un número de la forma $\\mathbb{Q}+\\sqrt{\\mathbb{Q}}$, en particular, podemos encontrar la representación de $\\sqrt{D}$ simplemente haciendo los parámetros de la función, $0$ y $1$ respectivamente.\n",
        "\n",
        "Hallaremos la representación como fracción contínua de $\\sqrt{7}=\\frac{0+\\sqrt{7}}{1}$"
      ]
    },
    {
      "cell_type": "code",
      "metadata": {
        "colab": {
          "base_uri": "https://localhost:8080/",
          "height": 37
        },
        "id": "XM_8r8n-aEna",
        "outputId": "f0b82747-899d-4286-faa2-6e90346748d8"
      },
      "source": [
        "quadratic_to_c_frac(0, 1, 7)"
      ],
      "execution_count": null,
      "outputs": [
        {
          "output_type": "execute_result",
          "data": {
            "image/png": "[encoded data removed]",
            "text/latex": "$\\displaystyle \\left[ 2, \\  \\left[ 1, \\  1, \\  1, \\  4\\right]\\right]$",
            "text/plain": [
              "[2, [1, 1, 1, 4]]"
            ]
          },
          "metadata": {
            "tags": []
          },
          "execution_count": 47
        }
      ]
    },
    {
      "cell_type": "markdown",
      "metadata": {
        "id": "dE2QvAsB6czV"
      },
      "source": [
        "**Ejemplo 8:** Para resolver la ecuación de Pell, vimos que nos interesa calcular el periodo de la representación como fracción contínua, en el caso de $\\sqrt{7}$ vemos que el periodo es $4$, justo como nos lo dice la función <code>pure_quadratic_period</code>, cuya última componente nos da cuenta del periodo, mientras que la primera componente nos retorna la lista de la sucesión de $a_i$'s con solo un periodo si $m$ es par, o con dos periodos si $m$ es impar."
      ]
    },
    {
      "cell_type": "code",
      "metadata": {
        "colab": {
          "base_uri": "https://localhost:8080/",
          "height": 37
        },
        "id": "d06qW8f49dlw",
        "outputId": "843e35b7-ce6d-40c5-a880-29f93f4e3dd9"
      },
      "source": [
        "quadratic_to_c_frac(0, 1, 7)"
      ],
      "execution_count": null,
      "outputs": [
        {
          "output_type": "execute_result",
          "data": {
            "image/png": "[encoded data removed]",
            "text/latex": "$\\displaystyle \\left[ 2, \\  \\left[ 1, \\  1, \\  1, \\  4\\right]\\right]$",
            "text/plain": [
              "[2, [1, 1, 1, 4]]"
            ]
          },
          "metadata": {
            "tags": []
          },
          "execution_count": 60
        }
      ]
    },
    {
      "cell_type": "code",
      "metadata": {
        "colab": {
          "base_uri": "https://localhost:8080/",
          "height": 37
        },
        "id": "p0GJpDBvaJet",
        "outputId": "b270c8b1-752e-44a9-8c09-30086a0f2534"
      },
      "source": [
        "pure_quadratic_period(7)"
      ],
      "execution_count": null,
      "outputs": [
        {
          "output_type": "execute_result",
          "data": {
            "image/png": "[encoded data removed]",
            "text/latex": "$\\displaystyle \\left( \\left[ 2, \\  1, \\  1, \\  1, \\  4\\right], \\  4\\right)$",
            "text/plain": [
              "([2, 1, 1, 1, 4], 4)"
            ]
          },
          "metadata": {
            "tags": []
          },
          "execution_count": 58
        }
      ]
    },
    {
      "cell_type": "code",
      "metadata": {
        "colab": {
          "base_uri": "https://localhost:8080/",
          "height": 37
        },
        "id": "OyJLedcP9e4Y",
        "outputId": "c3153a06-bf67-4978-ab11-97f8425ed449"
      },
      "source": [
        "quadratic_to_c_frac(0, 1, 10)"
      ],
      "execution_count": null,
      "outputs": [
        {
          "output_type": "execute_result",
          "data": {
            "image/png": "[encoded data removed]",
            "text/latex": "$\\displaystyle \\left[ 3, \\  \\left[ 6\\right]\\right]$",
            "text/plain": [
              "[3, [6]]"
            ]
          },
          "metadata": {
            "tags": []
          },
          "execution_count": 61
        }
      ]
    },
    {
      "cell_type": "code",
      "metadata": {
        "colab": {
          "base_uri": "https://localhost:8080/",
          "height": 37
        },
        "id": "cH-a_JuE8wEF",
        "outputId": "71c31517-ca88-403e-a934-4150c77152f3"
      },
      "source": [
        "pure_quadratic_period(10)"
      ],
      "execution_count": null,
      "outputs": [
        {
          "output_type": "execute_result",
          "data": {
            "image/png": "[encoded data removed]",
            "text/latex": "$\\displaystyle \\left( \\left[ 3, \\  6, \\  6\\right], \\  1\\right)$",
            "text/plain": [
              "([3, 6, 6], 1)"
            ]
          },
          "metadata": {
            "tags": []
          },
          "execution_count": 59
        }
      ]
    },
    {
      "cell_type": "markdown",
      "metadata": {
        "id": "E6WLm5jf7Ms3"
      },
      "source": [
        "Finalmente, definimos el método para solucionar la ecuación de Pell con base en lo discutido anteriormente:"
      ]
    },
    {
      "cell_type": "code",
      "metadata": {
        "id": "9AbALvdJajQy"
      },
      "source": [
        "def solve_pell_eq(D):\n",
        "  \"\"\"\n",
        "  Resolvemos la ecuación x^2-Dy^2 =1, con D un entero positivo\n",
        "  \"\"\"\n",
        "  #considerar casos\n",
        "  l = pure_quadratic_period(D)\n",
        "  a, b = l[0], l[1]\n",
        "  if b%2 == 0:\n",
        "    x = (list(continued_fraction_convergents(a))[b-1]).numerator()\n",
        "    y = (list(continued_fraction_convergents(a))[b-1]).denominator()\n",
        "    \n",
        "  else:\n",
        "    x = (list(continued_fraction_convergents(a))[2*b-1]).numerator()\n",
        "    y = (list(continued_fraction_convergents(a))[2*b-1]).denominator()\n",
        "\n",
        "  return x, y"
      ],
      "execution_count": null,
      "outputs": []
    },
    {
      "cell_type": "markdown",
      "metadata": {
        "id": "bLj0ibFn_gGh"
      },
      "source": [
        "**Ejemplo 9:** Resolveremos la ecuación de Pell: $x^2-7y^2=1$"
      ]
    },
    {
      "cell_type": "code",
      "metadata": {
        "colab": {
          "base_uri": "https://localhost:8080/",
          "height": 37
        },
        "id": "o8OG7yR-ampq",
        "outputId": "58d5655a-fc09-41d3-d06b-0fa97d2aebad"
      },
      "source": [
        "solve_pell_eq(7)"
      ],
      "execution_count": null,
      "outputs": [
        {
          "output_type": "execute_result",
          "data": {
            "image/png": "[encoded data removed]",
            "text/latex": "$\\displaystyle \\left( 8, \\  3\\right)$",
            "text/plain": [
              "(8, 3)"
            ]
          },
          "metadata": {
            "tags": []
          },
          "execution_count": 66
        }
      ]
    },
    {
      "cell_type": "markdown",
      "metadata": {
        "id": "Nz4KL-1O_ndY"
      },
      "source": [
        "Podemos verificar que: $8^2-7\\cdot3^2=1$"
      ]
    },
    {
      "cell_type": "code",
      "metadata": {
        "colab": {
          "base_uri": "https://localhost:8080/",
          "height": 37
        },
        "id": "b8foN1z_apwJ",
        "outputId": "8555bb89-e93f-4613-f51d-d4d7673cc649"
      },
      "source": [
        "solve_pell_eq(11)"
      ],
      "execution_count": null,
      "outputs": [
        {
          "output_type": "execute_result",
          "data": {
            "image/png": "[encoded data removed]",
            "text/latex": "$\\displaystyle \\left( 10, \\  3\\right)$",
            "text/plain": [
              "(10, 3)"
            ]
          },
          "metadata": {
            "tags": []
          },
          "execution_count": 67
        }
      ]
    },
    {
      "cell_type": "code",
      "metadata": {
        "colab": {
          "base_uri": "https://localhost:8080/",
          "height": 37
        },
        "id": "gVVSoCgCarqR",
        "outputId": "c066e601-22f7-456e-84f4-42d2d22db66c"
      },
      "source": [
        "solve_pell_eq(13)"
      ],
      "execution_count": null,
      "outputs": [
        {
          "output_type": "execute_result",
          "data": {
            "image/png": "[encoded data removed]",
            "text/latex": "$\\displaystyle \\left( 649, \\  180\\right)$",
            "text/plain": [
              "(649, 180)"
            ]
          },
          "metadata": {
            "tags": []
          },
          "execution_count": 68
        }
      ]
    },
    {
      "cell_type": "code",
      "metadata": {
        "colab": {
          "base_uri": "https://localhost:8080/",
          "height": 37
        },
        "id": "r-BgdwpYatMJ",
        "outputId": "17818406-8fb7-413b-e74c-b8bc4fe20915"
      },
      "source": [
        "#Verificamos que la solución de la ecuación de Pell es correcta\n",
        "649**2-13*180**2"
      ],
      "execution_count": null,
      "outputs": [
        {
          "output_type": "execute_result",
          "data": {
            "image/png": "[encoded data removed]",
            "text/latex": "$\\displaystyle 1$",
            "text/plain": [
              "1"
            ]
          },
          "metadata": {
            "tags": []
          },
          "execution_count": 19
        }
      ]
    },
    {
      "cell_type": "markdown",
      "metadata": {
        "id": "N5NxX9Iq1P2i"
      },
      "source": [
        "## Método de Herón\n",
        "\n",
        "El método de Herón es un caso particular del método de Newton para encontrar raíces de polinomios. La idea para encontrar $\\sqrt{x}$ es empeza con una aproximación inicial $a_0$ y construir recursivamente las sucesiones de $a_i$'s y $b_i$'s como sigue: $b_{i}=\\frac{x}{a_{i}}, \\quad a_{i}+1=\\frac{a_{i}+b_{i}}{2}$. Puede probarse que ambas sucesiones convergen a $\\sqrt{x}$ siempre que $a_0 \\neq 0$.\n",
        "\n",
        "Implementaremos las funciones <code>numeric_heron</code> y <code>symbolic_heron</code>, que no son más sino que el algoritmo de Herón implementado en Python. En el primer caso, operamos numéricamente para construir ambas sucesiones, mientras que en el segundo operamos simbólicamente, trabajando con las fracciones que salgan en el camino, simplificándolas, pero sin hacer la división."
      ]
    },
    {
      "cell_type": "code",
      "metadata": {
        "id": "2ZwEyS3La0Hn"
      },
      "source": [
        "def numeric_heron(num, guess, tolerance):\n",
        "    if guess**2 != num:\n",
        "        \n",
        "        if abs(float(num) - float(guess)**2) > float(tolerance):\n",
        "            avg_guess = 0.5 * (float(guess) + (float(num) / float(guess)))\n",
        "            return heron(num, avg_guess, tolerance)\n",
        "        print(\"Dada la toleracia ingresada, el resultado del algoritmo es:\", guess)\n",
        "    else:\n",
        "        print(guess, \"Su aproximación es de hecho, la solución!\")\n",
        "\n",
        "def symbolic_heron(x, a_0, n):\n",
        "  \"\"\"\n",
        "  a0^2 > x, devuelve la sucesión de los n primeros a's\n",
        "  \"\"\"\n",
        "  a = [Integer(a_0)]\n",
        "  b = [Integer(x)/Integer(a_0)]\n",
        "\n",
        "  for i in range(n-1):\n",
        "      a.append(Add(a[i],b[i])/2)\n",
        "      b.append(x/a[i+1])\n",
        "\n",
        "  return a\n",
        "\n",
        "def cyclic_period(d, m):\n",
        "  q = quadratic_to_c_frac(0, 1, d)\n",
        "  l = len(q[1])\n",
        "  new_q = q[:-1]\n",
        "  for i in q[1]*m:\n",
        "    new_q.append(i)\n",
        "  return new_q"
      ],
      "execution_count": null,
      "outputs": []
    },
    {
      "cell_type": "markdown",
      "metadata": {
        "id": "Xr4RlmPo_6Pm"
      },
      "source": [
        "**Ejemplo 10:** Hallamos primero la raíz cuadrada de $7$ con los algoritmos internos de Python"
      ]
    },
    {
      "cell_type": "code",
      "metadata": {
        "colab": {
          "base_uri": "https://localhost:8080/",
          "height": 37
        },
        "id": "3IZDSKgFcGrn",
        "outputId": "befbe290-3d70-45da-fefe-88df7dcfa385"
      },
      "source": [
        "7**0.5"
      ],
      "execution_count": null,
      "outputs": [
        {
          "output_type": "execute_result",
          "data": {
            "image/png": "[encoded data removed]",
            "text/latex": "$\\displaystyle 2.64575131106459$",
            "text/plain": [
              "2.6457513110645907"
            ]
          },
          "metadata": {
            "tags": []
          },
          "execution_count": 21
        }
      ]
    },
    {
      "cell_type": "markdown",
      "metadata": {
        "id": "7eP1oXwCACaQ"
      },
      "source": [
        "A continuación lo hallaremos con el método numérico de Herón, empezando con el valor de $3$ como su aproximación inicial, hasta que lleguemos a un grado de tolerancia de $0.001$"
      ]
    },
    {
      "cell_type": "code",
      "metadata": {
        "colab": {
          "base_uri": "https://localhost:8080/"
        },
        "id": "SXYb0XYwcIUW",
        "outputId": "53b87f76-ba42-4f57-80fb-b12ef1978da0"
      },
      "source": [
        "numeric_heron(7,3,0.001)"
      ],
      "execution_count": null,
      "outputs": [
        {
          "output_type": "stream",
          "text": [
            "Dada la toleracia ingresada, el resultado del algoritmo es: 2.645833333333333\n"
          ],
          "name": "stdout"
        }
      ]
    },
    {
      "cell_type": "markdown",
      "metadata": {
        "id": "PofKdk6uAcN8"
      },
      "source": [
        "Finalmente, hallamos la aproximación de la raíz cuadrada de $7$ con el método simbólico de Herón, hallando las fracciones que aproximan dicha raíz. (el algoritmo nos arroja los $5$ primeros términos de la sucesión de $a_i$'s)"
      ]
    },
    {
      "cell_type": "code",
      "metadata": {
        "colab": {
          "base_uri": "https://localhost:8080/",
          "height": 57
        },
        "id": "njDucXFAcMo1",
        "outputId": "2e5e081c-1bed-446f-9bc9-e9343e794f56"
      },
      "source": [
        "symbolic_heron(7,3,5)"
      ],
      "execution_count": null,
      "outputs": [
        {
          "output_type": "execute_result",
          "data": {
            "image/png": "[encoded data removed]",
            "text/latex": "$\\displaystyle \\left[ 3, \\  \\frac{8}{3}, \\  \\frac{127}{48}, \\  \\frac{32257}{12192}, \\  \\frac{2081028097}{786554688}\\right]$",
            "text/plain": [
              "⎡        127  32257  2081028097⎤\n",
              "⎢3, 8/3, ───, ─────, ──────────⎥\n",
              "⎣         48  12192  786554688 ⎦"
            ]
          },
          "metadata": {
            "tags": []
          },
          "execution_count": 71
        }
      ]
    },
    {
      "cell_type": "markdown",
      "metadata": {
        "id": "iXGzTqj7AYym"
      },
      "source": [
        "### **Teorema**\n",
        "\n",
        "Supongamos que $\\sqrt{x}$ tiene la siguiente representación como fracción continua $\\left[n_{0}; n_{1}, n_{2}, \\ldots\\right]$ con periodo de longitud $1$ o $2$ .Hagamos $a_{0}=\\lfloor\\sqrt{x}\\rfloor=n_{0}$ y apliquemos el método de Heron para obtener la sucesión de $a_i$'s. $\\left\\{a_{0}, a_{1}, \\ldots\\right\\}$.\n",
        "\n",
        "Entonces $a_{i}$ es la $2^{i}$ -ésima reducta/convergente de la fracción continua.\n",
        "Y recíprocamente, si la fracción contínua tiene pariodo mayor que $2$ entonces el método de Herón no nos da la misma sucesión de convergentes."
      ]
    },
    {
      "cell_type": "markdown",
      "metadata": {
        "id": "GGvrHlNDBoND"
      },
      "source": [
        "**Ejemplo 11:** Vamos a verificar lo enunciado en este teorema que nos relaciona el método de Newton con las fracciones contínuas:\n",
        "\n",
        "Para empezar, hallemos la descomposición en fracción conínua de $\\sqrt{2}$"
      ]
    },
    {
      "cell_type": "code",
      "metadata": {
        "colab": {
          "base_uri": "https://localhost:8080/",
          "height": 37
        },
        "id": "gitKh4PqcnmW",
        "outputId": "e498ecad-074c-4bf1-9d4d-de510b683f20"
      },
      "source": [
        "quadratic_to_c_frac(0, 1, 2)"
      ],
      "execution_count": null,
      "outputs": [
        {
          "output_type": "execute_result",
          "data": {
            "image/png": "[encoded data removed]",
            "text/latex": "$\\displaystyle \\left[ 1, \\  \\left[ 2\\right]\\right]$",
            "text/plain": [
              "[1, [2]]"
            ]
          },
          "metadata": {
            "tags": []
          },
          "execution_count": 72
        }
      ]
    },
    {
      "cell_type": "markdown",
      "metadata": {
        "id": "byjJkPiBB1FJ"
      },
      "source": [
        "Como vemos, tiene periodo de longitud $1$, luego aplica el teorema.\n",
        "\n",
        "A continuación hallamos los primeros $5$ términos de la sucesión de $a_i$'s del método simbólico de Herón, empezando con $1$ como aproximación inicial."
      ]
    },
    {
      "cell_type": "code",
      "metadata": {
        "colab": {
          "base_uri": "https://localhost:8080/",
          "height": 57
        },
        "id": "YflR7cYZcpWC",
        "outputId": "8e6b1055-1228-4913-883b-e2c0a64cde70"
      },
      "source": [
        "H = Heron(2,1,5)\n",
        "H"
      ],
      "execution_count": null,
      "outputs": [
        {
          "output_type": "execute_result",
          "data": {
            "image/png": "[encoded data removed]",
            "text/latex": "$\\displaystyle \\left[ 1, \\  \\frac{3}{2}, \\  \\frac{17}{12}, \\  \\frac{577}{408}, \\  \\frac{665857}{470832}\\right]$",
            "text/plain": [
              "⎡        17  577  665857⎤\n",
              "⎢1, 3/2, ──, ───, ──────⎥\n",
              "⎣        12  408  470832⎦"
            ]
          },
          "metadata": {
            "tags": []
          },
          "execution_count": 75
        }
      ]
    },
    {
      "cell_type": "markdown",
      "metadata": {
        "id": "QS89OR-kCGPv"
      },
      "source": [
        "Luego hallamos las primeras $16$ reductas o convergentes de la fracción contínua de $\\sqrt{2}$"
      ]
    },
    {
      "cell_type": "code",
      "metadata": {
        "colab": {
          "base_uri": "https://localhost:8080/",
          "height": 57
        },
        "id": "ZdjkJCshcrIr",
        "outputId": "0bbb328b-2703-4491-de72-e7611d0c34ce"
      },
      "source": [
        "C =cyclic_period(2, 16)\n",
        "L=[]\n",
        "for i in list(continued_fraction_convergents(C)):\n",
        "  L.append(i)\n",
        "L"
      ],
      "execution_count": null,
      "outputs": [
        {
          "output_type": "execute_result",
          "data": {
            "image/png": "[encoded data removed]",
            "text/latex": "$\\displaystyle \\left[ 1, \\  \\frac{3}{2}, \\  \\frac{7}{5}, \\  \\frac{17}{12}, \\  \\frac{41}{29}, \\  \\frac{99}{70}, \\  \\frac{239}{169}, \\  \\frac{577}{408}, \\  \\frac{1393}{985}, \\  \\frac{3363}{2378}, \\  \\frac{8119}{5741}, \\  \\frac{19601}{13860}, \\  \\frac{47321}{33461}, \\  \\frac{114243}{80782}, \\  \\frac{275807}{195025}, \\  \\frac{665857}{470832}, \\  \\frac{1607521}{1136689}\\right]$",
            "text/plain": [
              "⎡             17  41  99  239  577  1393  3363  8119  19601  47321  114243  27\n",
              "⎢1, 3/2, 7/5, ──, ──, ──, ───, ───, ────, ────, ────, ─────, ─────, ──────, ──\n",
              "⎣             12  29  70  169  408  985   2378  5741  13860  33461  80782   19\n",
              "\n",
              "5807  665857  1607521⎤\n",
              "────, ──────, ───────⎥\n",
              "5025  470832  1136689⎦"
            ]
          },
          "metadata": {
            "tags": []
          },
          "execution_count": 74
        }
      ]
    },
    {
      "cell_type": "markdown",
      "metadata": {
        "id": "6dKyb93cCS3e"
      },
      "source": [
        "Y por último, verificamos que el cuarto término de la suceción de $a_i$'s del método de Herón nos da lo mismo que la $2^4$ convergente de la fracción contínua de $\\sqrt{2}$, ambas nos dan $\\frac{665857}{470832}$ (recordar que la suecesión de $a_i$'s comienza en $a_0$)"
      ]
    },
    {
      "cell_type": "code",
      "metadata": {
        "colab": {
          "base_uri": "https://localhost:8080/"
        },
        "id": "r6KPC1csc0cA",
        "outputId": "2b27f1db-ab01-49fc-ce2e-ebd09d7ae4f3"
      },
      "source": [
        "H[4] == L[15]"
      ],
      "execution_count": null,
      "outputs": [
        {
          "output_type": "execute_result",
          "data": {
            "text/plain": [
              "True"
            ]
          },
          "metadata": {
            "tags": []
          },
          "execution_count": 76
        }
      ]
    },
    {
      "cell_type": "markdown",
      "metadata": {
        "id": "MUqkoJTqaE_3"
      },
      "source": [
        "# Aproximación de ecuaciones diferenciales\n",
        "\n",
        "## Aproximación de funciones mediante fracciones continuas"
      ]
    },
    {
      "cell_type": "markdown",
      "metadata": {
        "id": "ZGuxQ-qUaE_4"
      },
      "source": [
        "**Ejemplo 12:** \n",
        "\n",
        "En este ejemplo vamos a ilustrar el procedimiento para convertir la función $y=\\log{(x+1)}$ en fracción continua.\n",
        "\n",
        "Teniendo en cuenta la expansión de serie de Taylor de $y$"
      ]
    },
    {
      "cell_type": "code",
      "metadata": {
        "id": "4mkJHC2uaE_4"
      },
      "source": [
        "x = sym.Symbol('x')\n",
        "\n",
        "y=sym.series(sym.log(1+x), x,0,10)\n",
        "y1=sym.series(x/y-1,x,0,9)\n",
        "y2=sym.series(x/2*(1/y1) - 1,x,0,8)\n",
        "y3=sym.series(x/6 *(1/y2) - 1,x,0,7)\n",
        "y4=sym.series(x/3 *(1/y3) - 1,x,0,6)\n",
        "y5=sym.series(x/5 *(1/y4) - 1,x,0,5)\n",
        "y6=sym.series(x*3/10 *(1/y5) - 1,x,0,4)\n",
        "# pag 279"
      ],
      "execution_count": null,
      "outputs": []
    },
    {
      "cell_type": "code",
      "metadata": {
        "colab": {
          "base_uri": "https://localhost:8080/",
          "height": 491
        },
        "id": "T8l9cH1HaE_4",
        "outputId": "492ea93e-d669-444c-9935-b10228080aeb"
      },
      "source": [
        "f= lambda x: np.log(x+1)\n",
        "fs= lambda x: x - x**2/2 + x**3/3 - x**4/4 + x**5/5 - x**6/6\n",
        "fc= lambda x:  x/(1+x/2/(1+x/6/(1+x/3/(1+x/5/(1+x*3/10)))))\n",
        "\n",
        "x = np.arange(0,12, 12/500)\n",
        "x1=np.arange(0, 1.5, 1.5/500)\n",
        "y= f(x)\n",
        "y1=fs(x1)\n",
        "y2=fc(x)\n",
        "\n",
        "plt.figure(figsize=(15, 7))\n",
        "plt.plot(x, y, 'r--',linewidth=2, label='Ecuación exacta')\n",
        "plt.plot(x1, y1, 'b',label='Aprox. Serie')\n",
        "plt.plot(x, y2, 'g',label='Aprox. Fracción Continua')\n",
        "\n",
        "plt.grid( linestyle='--', linewidth=.5)\n",
        "plt.legend(fontsize=14)\n",
        "plt.title('Comparación de y=ln(1+x) con las aproximaciones de la \\nserie y fracción continua correspondientes\\n', fontsize=18)\n",
        "plt.show()"
      ],
      "execution_count": null,
      "outputs": [
        {
          "output_type": "display_data",
          "data": {
            "image/png": "[encoded data removed]",
            "text/plain": [
              "<Figure size 1080x504 with 1 Axes>"
            ]
          },
          "metadata": {
            "tags": [],
            "needs_background": "light"
          }
        }
      ]
    },
    {
      "cell_type": "markdown",
      "metadata": {
        "id": "OCMuX_ixaE_4"
      },
      "source": [
        "## Algoritmo"
      ]
    },
    {
      "cell_type": "code",
      "metadata": {
        "id": "2w4l84llaE_5"
      },
      "source": [
        "def seriesToFraction(funcion_simbolica, n):\n",
        "    x = sym.Symbol('x')\n",
        "    y0 = sym.series(funcion_simbolica, x,0,n)\n",
        "    primer_coef=y0.coeff(x,0)\n",
        "    y1=sym.series(y0-primer_coef, x,0,n)\n",
        "    ys = [y1]\n",
        "    coefs = []\n",
        "    exps = []\n",
        "\n",
        "    for i in range(sym.degree(y0)):\n",
        "    \n",
        "        j= 1\n",
        "        coefs_i = 0\n",
        "        exps_i = 0\n",
        "\n",
        "        while True :\n",
        "            c = ys[i].coeff(x,j)\n",
        "            if c == 0 and j<sym.degree(ys[i])+1:\n",
        "                j += 1\n",
        "\n",
        "            else:\n",
        "                if c==0:\n",
        "                    break\n",
        "                coefs_i = c\n",
        "                exps_i = j\n",
        "                coefs.append(coefs_i)\n",
        "                exps.append(exps_i)\n",
        "                break\n",
        "#hasta aquí tenemos y_i, c_i, e_i\n",
        "        if c==0:\n",
        "            break\n",
        "        ys.append(sym.series((coefs[i]*x**exps[i])/ys[i]-1,x,0,sym.degree(ys[i])-1))\n",
        "    \n",
        "    return [ys,coefs,exps,primer_coef]"
      ],
      "execution_count": null,
      "outputs": []
    },
    {
      "cell_type": "code",
      "metadata": {
        "id": "OUGtAUDdaE_5"
      },
      "source": [
        "def FCF(coeff,exps,x,primer_coef):\n",
        "    b=[coeff[i]*x**exps[i] for i in range(len(coeff))][::-1]\n",
        "    \n",
        "    expr=0\n",
        "    for i in range(len(b)):\n",
        "        expr = b[i]/(1+expr)\n",
        "    expr=primer_coef+expr\n",
        "    return expr"
      ],
      "execution_count": null,
      "outputs": []
    },
    {
      "cell_type": "markdown",
      "metadata": {
        "id": "udGL1r4XaE_5"
      },
      "source": [
        "## Grafica asociada a la fracción continua"
      ]
    },
    {
      "cell_type": "code",
      "metadata": {
        "id": "ZahTXnZvaE_6"
      },
      "source": [
        "def Fraction_Graph(funcion_simbolica, n,k,t):\n",
        "    \n",
        "    z=seriesToFraction(funcion_simbolica, n)\n",
        "    \n",
        "    fc= lambda x: FCF(z[1],z[2],x,z[3])\n",
        "    \n",
        "    x = np.arange(k,t, (t-k)/500)\n",
        "    y1= fc(x)\n",
        "    \n",
        "    plt.plot(x, y1, 'g',label='Aprox. Fracción Continua')"
      ],
      "execution_count": null,
      "outputs": []
    },
    {
      "cell_type": "markdown",
      "metadata": {
        "id": "LsiXPcNBaE_6"
      },
      "source": [
        "**Ejemplo 13:**\n",
        "\n",
        "En este ejemplo vamos a ilustrar el procedimiento para convertir la función $y=\\cos{(x)}$ en fracción continua."
      ]
    },
    {
      "cell_type": "code",
      "metadata": {
        "colab": {
          "base_uri": "https://localhost:8080/",
          "height": 509
        },
        "id": "tCw5UxvlaE_6",
        "outputId": "ff9da24a-e80d-4e7e-c66f-dc51a200a8de"
      },
      "source": [
        "x = sym.Symbol('x')\n",
        "plt.figure(figsize=(15, 7))\n",
        "Fraction_Graph(sym.sin(x),20,0,10)\n",
        "f_exact= lambda x: np.sin(x)\n",
        "z=sym.series(sym.sin(x),x,0,10)\n",
        "fs=lambda y: sum([float(z.coeff(x,i))*y**i  for i in range(10)])\n",
        "\n",
        "\n",
        "r = np.arange(0.001,10, 10/500)\n",
        "y= f_exact(r)\n",
        "x1=np.arange(0, 5.2, 1.7/500)\n",
        "y1=fs(x1)\n",
        "\n",
        "plt.plot(r, y, 'r--',linewidth=2, label='Ecuación exacta')\n",
        "plt.plot(x1, y1, 'b',label='Aprox. Serie')\n",
        "\n",
        "plt.grid( linestyle='--', linewidth=.5)\n",
        "plt.legend(fontsize=14)\n",
        "plt.title('Comparación de y=sin(x) con las aproximaciones de la \\nserie y fracción continua correspondientes\\n', fontsize=18)\n"
      ],
      "execution_count": null,
      "outputs": [
        {
          "output_type": "execute_result",
          "data": {
            "text/plain": [
              "Text(0.5, 1.0, 'Comparación de y=sin(x) con las aproximaciones de la \\nserie y fracción continua correspondientes\\n')"
            ]
          },
          "metadata": {
            "tags": []
          },
          "execution_count": 34
        },
        {
          "output_type": "display_data",
          "data": {
            "image/png": "[encoded data removed]",
            "text/plain": [
              "<Figure size 1080x504 with 1 Axes>"
            ]
          },
          "metadata": {
            "tags": [],
            "needs_background": "light"
          }
        }
      ]
    },
    {
      "cell_type": "markdown",
      "metadata": {
        "id": "ifAwXvt4aE_6"
      },
      "source": [
        "## Aproximación de ecuaciones diferenciales"
      ]
    },
    {
      "cell_type": "markdown",
      "metadata": {
        "id": "u3CPKDxhaE_6"
      },
      "source": [
        "**Ejemplo 14:** Algoritmo rápido (Quicksort)\n",
        "\n",
        "El análisis de la complejidad de algoritmos puede recurrir en muchos casos de un análisis combinatorio del problema. \n",
        "\n",
        "En este caso vamos a enfocarnos en la complejidad algoritmo Quicksort para ordenar una lista. Para esto se considera $b_n$ $(n\\geq 0)$ el número promedio de comparaciones llevadas a cabo en este algoritmo.\n",
        "\n",
        "En las referencias $[2]$ y $[3]$, se obtiene que $b_n$, sigue la recurrencia $b_0=0$ y para $n\\geq 0$.\n",
        "\n",
        "$$(n+1)b_{n+1}-(n+2)b_n=2n$$  \n",
        "Se puede deducir que la función generatriz $B(x)$ de la sucesión $b_n$ satisface la ecuación diferencial\n",
        "\n",
        "$$B'(x)=\\frac{2x}{(1-x)^3}+\\frac{2}{1-x}B(x)$$\n",
        "\n",
        "Sin dificultad se puede determinar que la función generatriz satisface la siguiente igualdad\n",
        "\n",
        "$$B(x)=-\\frac{2x}{(1-x)^2}-\\frac{2}{(1-x)^2}\\log{\\left(1-x\\right)}$$\n",
        "\n",
        "Vamos ahora a realizar la comparación de las aproximaciones de la función a partir de la serie y de su fracción continua respecto a la función exacta."
      ]
    },
    {
      "cell_type": "code",
      "metadata": {
        "id": "gfa8HkpyaasI"
      },
      "source": [
        "x = sym.Symbol('x')\n",
        "m=list(sym.Array([0]))\n",
        "\n",
        "for n in range(13):\n",
        "    m.append((m[n]*(n+2)+2*n)/(n+1))\n",
        "\n",
        "s=sum([m[i]*x**i for i in range(13)])"
      ],
      "execution_count": null,
      "outputs": []
    },
    {
      "cell_type": "code",
      "metadata": {
        "colab": {
          "base_uri": "https://localhost:8080/",
          "height": 446
        },
        "id": "PVAAz2KJaE_7",
        "outputId": "1043a3dd-74d9-4106-b7af-c52c450c9353"
      },
      "source": [
        "x = sym.Symbol('x')\n",
        "plt.figure(figsize=(15, 7))\n",
        "Fraction_Graph(s,12,0,0.82)\n",
        "f_exact= lambda x: -2*(np.log(1-x)+x)/(1-x)**2\n",
        "z=sym.series(-2*(sym.log(1-x)+x)/(1-x)**2,x,0,12)\n",
        "fs=lambda y: sum([float(z.coeff(x,i))*y**i  for i in range(10)])\n",
        "\n",
        "r = np.arange(0,0.82, 0.85/500)\n",
        "y= f_exact(r)\n",
        "x1=np.arange(0, 0.82, 0.85/500)\n",
        "y1=fs(x1)\n",
        "\n",
        "plt.plot(r, y, 'r--',linewidth=2, label='Ecuación exacta')\n",
        "plt.plot(x1, y1, 'b',label='Aprox. Serie')\n",
        "\n",
        "plt.grid( linestyle='--', linewidth=.5)\n",
        "plt.legend(fontsize=16)\n",
        "#plt.title('Comparación de y=B(x) con las aproximaciones de la \\nserie y fracción continua correspondientes\\n', fontsize=18)"
      ],
      "execution_count": null,
      "outputs": [
        {
          "output_type": "execute_result",
          "data": {
            "text/plain": [
              "<matplotlib.legend.Legend at 0x7f95988d0250>"
            ]
          },
          "metadata": {
            "tags": []
          },
          "execution_count": 36
        },
        {
          "output_type": "display_data",
          "data": {
            "image/png": "[encoded data removed]",
            "text/plain": [
              "<Figure size 1080x504 with 1 Axes>"
            ]
          },
          "metadata": {
            "tags": [],
            "needs_background": "light"
          }
        }
      ]
    },
    {
      "cell_type": "markdown",
      "metadata": {
        "id": "QLKipBXmaE_7"
      },
      "source": [
        "**Ejemplo 15:** \n",
        "\n",
        "Sistema de resorte no lineal sobreamortiguado. \n",
        "\n",
        "Un sistema vibratorio necesita dos elementos principales, inercia $ m $ que almacena energía cinética $ K = m \\dot{x} ^ {2} / 2 $, y rigidez $ k $ que almacena energía potencial $ P = kx ^ {2} / 2. $ El sistema también puede tener un elemento amortiguador $ c $ que desperdicia energía $ \\int c \\dot{x} dx $, y excitación $ f (x, \\dot{x}, t) $ que fuerzan al sistema seguir un mandato dado (Jazar 2013).\n",
        "\n",
        "La amortiguación y la rigidez pueden no ser lineales y depender de $ x $, o $ \\dot{x} $, o ser una variante temporal. La solución de estos casos es más interesante y complicada. Considere el sistema vibratorio no lineal\n",
        "\n",
        "\n",
        "\\begin{align*}\n",
        "\\ddot{x}+2 \\dot{x}+0.2 x^{3}=0.02 \\quad x(0)=1 \\quad \\dot{x}(0)=1\n",
        "\\end{align*}\n",
        "\n",
        "que tiene $ m = 1, c = 2, k = 0.2 x ^ {2}, f (x, \\dot{x}, t) = 0.02 $, y un equilibrio en $ x = \\sqrt[3] {0.02 / 0.2} = 0.46416 $. Las posiciones de equilibrio son las soluciones de la ecuación algebraica resultante después de asumir que todas las derivadas son cero en la ecuación diferencial. La solución en serie de potencias de la ecuación. (4.877) es:\n",
        "\n",
        "\\begin{align*}\n",
        "\\begin{aligned}\n",
        "x=& 1+t-\\frac{109}{100} t^{2}+\\frac{47}{75} t^{3}-\\frac{1853}{6000} t^{4}+\\frac{1201}{7500} t^{5}+\\frac{167017}{2250000} t^{6} \\\\\n",
        "&+\\frac{672073}{31500000} t^{7}+\\frac{45793}{14400000} t^{8}-\\frac{22531823}{2268000000} t^{9}+\\ldots\n",
        "\\end{aligned}\n",
        "\\end{align*}\n",
        "\n",
        "\n",
        "La aproximación numérica se obtuvo con el programa Mathematica"
      ]
    },
    {
      "cell_type": "code",
      "metadata": {
        "id": "nMe-ry3uf8Kn"
      },
      "source": [
        "#Código de Mathematica\n",
        "\n",
        "#r = NDSolve[{p''[x] + 2 p'[x] + 0.2 p[x]^3 == 0.02, p[0] == 1, p'[0] == 1}, p[x], {x, 0, 7}]\n",
        "#z[x_] := Evaluate[p[x] /. r]\n",
        "\n",
        "#u = Range[0, 3.4, 0.01];\n",
        "#w = z[#][[1]] & /@ u;\n",
        "\n",
        "#fu = {#, z[#][[1]]} & /@ u;\n",
        "#ListLinePlot[fu]\n",
        "#w"
      ],
      "execution_count": null,
      "outputs": []
    },
    {
      "cell_type": "code",
      "metadata": {
        "id": "PJtYCNlegGMw"
      },
      "source": [
        "r2=np.arange(0,3.4, 0.01)\n",
        "u2=np.array([1., 1.00989, 1.01957, 1.02904, 1.0383, 1.04735, 1.05621, 1.06487, 1.07333, 1.08161, 1.0897, 1.0976, 1.10533, 1.11287, 1.12025, 1.12744,1.13448, 1.14134, 1.14804, 1.15458, 1.16097, 1.16719, 1.17327, 1.17919, 1.18497, 1.1906, 1.19609, 1.20144, 1.20665, 1.21172, \n",
        "1.21666, 1.22147, 1.22615, 1.2307, 1.23512, 1.23943, 1.24361, 1.24767, 1.25162, 1.25545, 1.25917, 1.26278, 1.26628, 1.26967, 1.27295, 1.27613, 1.27921, 1.28219, 1.28507, 1.28785, 1.29054,1.29314, 1.29564, 1.29805, 1.30037, 1.3026, 1.30475, 1.30682, 1.3088, \n",
        "1.31069, 1.31251, 1.31425, 1.31592, 1.3175, 1.31901, 1.32045, 1.32182, 1.32311, 1.32434, 1.3255, 1.32659, 1.32761, 1.32857, 1.32947, 1.3303, 1.33108, 1.33179, 1.33244, 1.33304, 1.33358,1.33406, 1.33449, 1.33487, 1.33519, 1.33546, 1.33568, 1.33586, \n",
        "1.33598, 1.33605, 1.33608, 1.33607, 1.336, 1.3359, 1.33575, 1.33556, 1.33532, 1.33505, 1.33474, 1.33438, 1.33399, 1.33357, 1.3331, 1.3326, 1.33207, 1.3315, 1.3309, 1.33026, 1.32959, 1.32889, 1.32816, 1.32741, 1.32662, 1.3258, 1.32495, 1.32408, 1.32318, 1.32226, 1.32131, \n",
        "1.32033, 1.31933, 1.31831, 1.31726, 1.31619, 1.3151, 1.31399, 1.31285, 1.3117, 1.31052, 1.30933, 1.30812, 1.30689, 1.30564, 1.30437, 1.30309, 1.30179, 1.30048, 1.29915, 1.2978, 1.29644, 1.29507, 1.29368, 1.29228, 1.29086, 1.28944, 1.288, 1.28654, 1.28508, \n",
        "1.28361, 1.28212, 1.28063, 1.27912, 1.27761, 1.27608, 1.27455, 1.27301, 1.27146, 1.2699, 1.26834, 1.26676, 1.26518, 1.2636, 1.262, 1.2604, 1.2588, 1.25719, 1.25557, 1.25395, 1.25232, 1.25069, 1.24905, 1.24741, 1.24577, 1.24412, 1.24247, 1.24081, 1.23915, 1.23749, \n",
        "1.23583, 1.23416, 1.23249, 1.23082, 1.22915, 1.22748, 1.2258, 1.22413, 1.22245, 1.22077, 1.21909, 1.21741, 1.21573, 1.21405, 1.21237, 1.21068, 1.209, 1.20732, 1.20564, 1.20396, 1.20228, 1.2006, 1.19893, 1.19725, 1.19558, 1.1939, 1.19223, 1.19056, 1.18889, \n",
        "1.18722, 1.18556, 1.18389, 1.18223, 1.18057, 1.17891, 1.17726, 1.17561, 1.17396, 1.17231, 1.17067, 1.16902, 1.16738, 1.16575, 1.16412, 1.16249, 1.16086, 1.15924, 1.15762, 1.156, 1.15439, 1.15278, 1.15117, 1.14957, 1.14797, 1.14637, 1.14478, 1.14319, 1.14161, \n",
        "1.14003, 1.13845, 1.13688, 1.13531, 1.13375, 1.13218, 1.13063, 1.12908, 1.12753, 1.12599, 1.12445, 1.12291, 1.12138, 1.11985, 1.11833, 1.11682, 1.1153, 1.11379, 1.11229, 1.11079, 1.1093, 1.10781, 1.10632, 1.10484, 1.10336, 1.10189, 1.10042, 1.09896, 1.0975, \n",
        "1.09605, 1.0946, 1.09316, 1.09172, 1.09028, 1.08885, 1.08743, 1.08601, 1.08459, 1.08318, 1.08177, 1.08037, 1.07898, 1.07758, 1.0762, 1.07482, 1.07344, 1.07206, 1.0707, 1.06933, 1.06797, 1.06662, 1.06527, 1.06393, 1.06259, 1.06125, 1.05992, 1.0586, 1.05728, \n",
        "1.05596, 1.05465, 1.05334, 1.05204, 1.05075, 1.04945, 1.04817, 1.04688, 1.04561, 1.04433, 1.04306, 1.0418, 1.04054, 1.03928, 1.03803, 1.03679, 1.03555, 1.03431, 1.03308, 1.03185, 1.03063, 1.02941, 1.02819, 1.02698, 1.02578, 1.02458, 1.02338, 1.02219, 1.021, \n",
        "1.01982, 1.01864, 1.01747, 1.0163, 1.01513, 1.01397, 1.01282, 1.01166, 1.01052, 1.00937, 1.00823, 1.0071, 1.00597, 1.00484, 1.00372, 1.0026, 1.00148, 1.00037])"
      ],
      "execution_count": null,
      "outputs": []
    },
    {
      "cell_type": "code",
      "metadata": {
        "id": "SSLxSlsMemqB"
      },
      "source": [
        "x = sym.Symbol('x')\n",
        "m=list(sym.Array([0]))\n",
        "\n",
        "p=sym.Array([1,1,-109,47,-1853,1201,167017,672073,45793,-22531823])\n",
        "q=sym.Array([1,1,100,75,6000,7500,2250000,31500000,14400000,2268000000])\n",
        "\n",
        "s=sym.series(sum([p[i]/q[i]*x**i for i in range(10)]),x,0,10)\n"
      ],
      "execution_count": null,
      "outputs": []
    },
    {
      "cell_type": "code",
      "metadata": {
        "id": "kQpytf3DaE_7",
        "colab": {
          "base_uri": "https://localhost:8080/",
          "height": 509
        },
        "outputId": "ec57f3a1-33f6-448b-e4f0-be6940980af4"
      },
      "source": [
        "x = sym.Symbol('x')\n",
        "plt.figure(figsize=(15, 7))\n",
        "Fraction_Graph(s,10,0,3.4)\n",
        "\n",
        "fs=lambda y: sum([float(s.coeff(x,i))*y**i  for i in range(10)])\n",
        "\n",
        "\n",
        "x1=np.arange(0, 1.5, 1/500)\n",
        "y1=fs(x1)\n",
        "\n",
        "plt.plot(r2,u2,'r--',linewidth=2, label='Aprox. Numérica')\n",
        "plt.plot(x1, y1, 'b',label='Aprox. Serie')\n",
        "\n",
        "plt.grid( linestyle='--', linewidth=.5)\n",
        "plt.legend(fontsize=16)\n",
        "plt.title('Comparación de la ecuación diferencial con las aproximaciones de la \\nserie y fracción continua correspondientes\\n', fontsize=18)\n"
      ],
      "execution_count": null,
      "outputs": [
        {
          "output_type": "execute_result",
          "data": {
            "text/plain": [
              "Text(0.5, 1.0, 'Comparación de la ecuación diferencial con las aproximaciones de la \\nserie y fracción continua correspondientes\\n')"
            ]
          },
          "metadata": {
            "tags": []
          },
          "execution_count": 40
        },
        {
          "output_type": "display_data",
          "data": {
            "image/png": "[encoded data removed]",
            "text/plain": [
              "<Figure size 1080x504 with 1 Axes>"
            ]
          },
          "metadata": {
            "tags": [],
            "needs_background": "light"
          }
        }
      ]
    },
    {
      "cell_type": "markdown",
      "metadata": {
        "id": "tjvWP_L9aE_7"
      },
      "source": [
        "# Referencias\n",
        "\n",
        "1. Reza N. Jazar,Approximation methods in science and engineering, SpringerVerlag, Berlin Heidelberg, 2020.\n",
        "\n",
        "2.  Donald E. Knuth, The Art of Computer Programming, Volume 3: Sorting and Searching, Addison-Wesley, 1973.\n",
        "\n",
        "3. arXiv:1503.02504"
      ]
    }
  ]
}